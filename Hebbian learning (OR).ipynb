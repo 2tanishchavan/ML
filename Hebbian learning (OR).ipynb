{
 "cells": [
  {
   "cell_type": "code",
   "execution_count": 4,
   "id": "7bc8a7d8-f2a8-49ce-8573-640fd3f56f4f",
   "metadata": {},
   "outputs": [
    {
     "name": "stdout",
     "output_type": "stream",
     "text": [
      "Input: [1 1], Target: 1, Output: 1, Weights: [200.38238662 200.52617036]\n"
     ]
    }
   ],
   "source": [
    "import numpy as np\n",
    "\n",
    "# Initialize weights randomly\n",
    "weights = np.random.rand(2)\n",
    "\n",
    "# Define OR gate truth table\n",
    "input_patterns = np.array([[0, 0], [0, 1], [1, 0], [1, 1]])\n",
    "targets = np.array([0, 1, 1, 1])\n",
    "\n",
    "# Activation function (threshold)\n",
    "def activate(x):\n",
    "    return 1 if x >= 0 else 0\n",
    "\n",
    "# Hebbian learning rule\n",
    "def hebbian_learning(input_pattern, target, weights):\n",
    "    output = activate(np.dot(input_pattern, weights))\n",
    "    weights += input_pattern * target\n",
    "    return output\n",
    "\n",
    "# Training loop\n",
    "epochs = 100\n",
    "for epoch in range(epochs):\n",
    "    for i in range(len(input_patterns)):\n",
    "        output = hebbian_learning(input_patterns[i], targets[i], weights)\n",
    "#         print(f\"Input: {input_patterns[i]}, Target: {targets[i]}, Output: {output}, Weights: {weights}\")\n",
    "\n",
    "print(\"Testing the OR gate:\")\n",
    "for test_input in input_patterns:\n",
    "    output = np.dot(test_input, weights)\n",
    "    print(f\"Input: {test_input}, Output: {int(output >= 0.5)}\")"
   ]
  },
  {
   "cell_type": "code",
   "execution_count": null,
   "id": "ce52e76a",
   "metadata": {},
   "outputs": [],
   "source": []
  },
  {
   "cell_type": "code",
   "execution_count": 6,
   "id": "27722aae",
   "metadata": {},
   "outputs": [
    {
     "name": "stdout",
     "output_type": "stream",
     "text": [
      "0\n",
      "1\n",
      "1\n",
      "1\n"
     ]
    }
   ],
   "source": [
    "weights = [1, 1]\n",
    "learning_rate = 0.1\n",
    "\n",
    "# Training data for an AND gate\n",
    "inputs = [[0, 0], [0, 1], [1, 0], [1, 1]]\n",
    "outputs = [0, 0, 0, 1]\n",
    "\n",
    "for i in range(len(inputs)):\n",
    "    \n",
    "    weighted_sum = sum(weights[j] * inputs[i][j] for j in range(len(weights)))\n",
    "\n",
    "    # Update the weights using the Hebbian learning rule\n",
    "    for j in range(len(weights)):\n",
    "        weights[j] += learning_rate * inputs[i][j] * (outputs[i] - weighted_sum)\n",
    "\n",
    "def predict(inputs):\n",
    "    weighted_sum = weights[0] * inputs[0] + weights[1] * inputs[1]\n",
    "    return 1 if weighted_sum > 0 else 0\n",
    "\n",
    "print(predict([0, 0]))  # Output: 0\n",
    "print(predict([0, 1]))  # Output: 0\n",
    "print(predict([1, 0]))  # Output: 0\n",
    "print(predict([1, 1]))  # Output: 1"
   ]
  }
 ],
 "metadata": {
  "kernelspec": {
   "display_name": "Python 3 (ipykernel)",
   "language": "python",
   "name": "python3"
  },
  "language_info": {
   "codemirror_mode": {
    "name": "ipython",
    "version": 3
   },
   "file_extension": ".py",
   "mimetype": "text/x-python",
   "name": "python",
   "nbconvert_exporter": "python",
   "pygments_lexer": "ipython3",
   "version": "3.10.13"
  }
 },
 "nbformat": 4,
 "nbformat_minor": 5
}
