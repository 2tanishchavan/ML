{
 "cells": [
  {
   "cell_type": "code",
   "execution_count": 1,
   "id": "719354c7-7cd0-4b55-9f54-d6ed16fc97f5",
   "metadata": {},
   "outputs": [
    {
     "name": "stdout",
     "output_type": "stream",
     "text": [
      "Reduced dimensionality data (first 5 samples):\n",
      "[[-2.26470281 -0.4800266 ]\n",
      " [-2.08096115  0.67413356]\n",
      " [-2.36422905  0.34190802]\n",
      " [-2.29938422  0.59739451]\n",
      " [-2.38984217 -0.64683538]]\n"
     ]
    }
   ],
   "source": [
    "from sklearn.datasets import load_iris\n",
    "from sklearn.preprocessing import StandardScaler\n",
    "import numpy as np\n",
    "\n",
    "# Step 1: Load the iris dataset\n",
    "iris = load_iris()\n",
    "X = iris.data\n",
    "y = iris.target\n",
    "\n",
    "# Step 2: Standardize the data\n",
    "scaler = StandardScaler()\n",
    "X_scaled = scaler.fit_transform(X)\n",
    "\n",
    "# Step 3: Compute the covariance matrix\n",
    "cov_matrix = np.cov(X_scaled, rowvar=False)\n",
    "\n",
    "# Step 4: Compute eigenvectors and eigenvalues\n",
    "eigenvalues, eigenvectors = np.linalg.eig(cov_matrix)\n",
    "\n",
    "# Step 5: Select principal components\n",
    "# Sort eigenvalues and corresponding eigenvectors in descending order\n",
    "idx = eigenvalues.argsort()[::-1]\n",
    "eigenvalues = eigenvalues[idx]\n",
    "eigenvectors = eigenvectors[:, idx]\n",
    "\n",
    "# Select the top two eigenvectors\n",
    "top_eigenvectors = eigenvectors[:, :2]\n",
    "\n",
    "# Step 6: Project data onto principal components\n",
    "X_pca = np.dot(X_scaled, top_eigenvectors)\n",
    "\n",
    "# Print the reduced dimensionality data\n",
    "print(\"Reduced dimensionality data (first 5 samples):\")\n",
    "print(X_pca[:5])\n"
   ]
  }
 ],
 "metadata": {
  "kernelspec": {
   "display_name": "Python 3 (ipykernel)",
   "language": "python",
   "name": "python3"
  },
  "language_info": {
   "codemirror_mode": {
    "name": "ipython",
    "version": 3
   },
   "file_extension": ".py",
   "mimetype": "text/x-python",
   "name": "python",
   "nbconvert_exporter": "python",
   "pygments_lexer": "ipython3",
   "version": "3.12.0"
  }
 },
 "nbformat": 4,
 "nbformat_minor": 5
}
