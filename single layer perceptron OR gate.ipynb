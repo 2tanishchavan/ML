{
 "cells": [
  {
   "cell_type": "code",
   "execution_count": 1,
   "metadata": {},
   "outputs": [
    {
     "name": "stdout",
     "output_type": "stream",
     "text": [
      "0\n",
      "1\n",
      "1\n",
      "1\n"
     ]
    }
   ],
   "source": [
    "import numpy as np\n",
    "\n",
    "# Define the inputs and outputs for the OR gate\n",
    "inputs = np.array([[0, 0], [0, 1], [1, 0], [1, 1]])\n",
    "outputs = np.array([0, 0, 0, 1])\n",
    "\n",
    "# Initialize the weights randomly\n",
    "weights = np.random.randn(2)\n",
    "\n",
    "# Set the learning rate\n",
    "learning_rate = 0.1\n",
    "\n",
    "# Train the perceptron\n",
    "for epoch in range(100):\n",
    "    for i in range(len(inputs)):\n",
    "        # Calculate the weighted sum of the inputs\n",
    "        weighted_sum = np.dot(inputs[i], weights)\n",
    "\n",
    "        # Apply the activation function (e.g., Heaviside step function)\n",
    "        activation = 1 if weighted_sum > 0 else 0\n",
    "\n",
    "        # Update the weights using the Perceptron learning rule\n",
    "        error = outputs[i] - activation\n",
    "        weights += learning_rate * error * inputs[i]\n",
    "\n",
    "# Make predictions on new inputs\n",
    "def predict(inputs):\n",
    "    weighted_sum = np.dot(inputs, weights)\n",
    "    activation = 1 if weighted_sum > 0 else 0\n",
    "    return activation\n",
    "\n",
    "print(predict([0, 0]))  # Output: 0\n",
    "print(predict([0, 1]))  # Output: 1\n",
    "print(predict([1, 0]))  # Output: 1\n",
    "print(predict([1, 1]))  # Output: 1\n"
   ]
  }
 ],
 "metadata": {
  "kernelspec": {
   "display_name": "Python 3 (ipykernel)",
   "language": "python",
   "name": "python3"
  },
  "language_info": {
   "codemirror_mode": {
    "name": "ipython",
    "version": 3
   },
   "file_extension": ".py",
   "mimetype": "text/x-python",
   "name": "python",
   "nbconvert_exporter": "python",
   "pygments_lexer": "ipython3",
   "version": "3.10.13"
  }
 },
 "nbformat": 4,
 "nbformat_minor": 4
}
