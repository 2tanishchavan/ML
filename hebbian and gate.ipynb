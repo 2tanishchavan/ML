{
 "cells": [
  {
   "cell_type": "code",
   "execution_count": 1,
   "metadata": {},
   "outputs": [
    {
     "name": "stdout",
     "output_type": "stream",
     "text": [
      "Testing the AND gate:\n",
      "Input: [1 1], Output: 1\n",
      "Input: [1 0], Output: 1\n",
      "Input: [0 1], Output: 1\n",
      "Input: [0 0], Output: 0\n"
     ]
    }
   ],
   "source": [
    "import numpy as np\n",
    "\n",
    "# Define the input patterns for the AND gate\n",
    "input_patterns = np.array([[1, 1],\n",
    "                           [1, 0],\n",
    "                           [0, 1],\n",
    "                           [0, 0]])\n",
    "\n",
    "# Define the target outputs for the AND gate\n",
    "target_outputs = np.array([1, 0, 0, 0])\n",
    "\n",
    "# Initialize the weights randomly\n",
    "weights = np.random.rand(2)\n",
    "\n",
    "# Set the learning rate\n",
    "learning_rate = 0.1\n",
    "\n",
    "# Define the Hebbian Learning Rule function\n",
    "def hebbian_learning_rule(input_pattern, target_output, weights, learning_rate):\n",
    "    # Compute the output of the neuron\n",
    "    output = np.dot(input_pattern, weights)\n",
    "    \n",
    "    # Update the weights using the Hebbian Learning Rule\n",
    "    weights += learning_rate * target_output * input_pattern\n",
    "    \n",
    "    return output, weights\n",
    "\n",
    "#Train the neuron using the Hebbian Learning Rule\n",
    "for input_pattern, target_output in zip(input_patterns, target_outputs):\n",
    "    output, weights = hebbian_learning_rule(input_pattern, target_output, weights, learning_rate)\n",
    "\n",
    " #Test the trained neuron with new inputs\n",
    "test_inputs = np.array([[1, 1],\n",
    "                        [1, 0],\n",
    "                        [0, 1],\n",
    "                        [0, 0]])\n",
    "\n",
    "print(\"Testing the AND gate:\")\n",
    "for test_input in test_inputs:\n",
    "    output = np.dot(test_input, weights)\n",
    "    print(f\"Input: {test_input}, Output: {int(output >= 0.5)}\")\n"
   ]
  },
  {
   "cell_type": "code",
   "execution_count": 1,
   "metadata": {},
   "outputs": [
    {
     "name": "stdout",
     "output_type": "stream",
     "text": [
      "0\n",
      "0\n",
      "0\n",
      "1\n"
     ]
    }
   ],
   "source": [
    "weights = [1, 1]\n",
    "learning_rate = 0.1\n",
    "\n",
    "# Training data for an AND gate\n",
    "inputs = [[0, 0], [0, 1], [1, 0], [1, 1]]\n",
    "outputs = [0, 0, 0, 1]\n",
    "\n",
    "for i in range(len(inputs)):\n",
    "    \n",
    "    weighted_sum = sum(weights[j] * inputs[i][j] for j in range(len(weights)))\n",
    "\n",
    "    # Update the weights using the Hebbian learning rule\n",
    "    for j in range(len(weights)):\n",
    "        weights[j] += learning_rate * inputs[i][j] * (outputs[i] - weighted_sum)\n",
    "\n",
    "def predict(inputs):\n",
    "    weighted_sum = weights[0] * inputs[0] + weights[1] * inputs[1]\n",
    "    return 1 if weighted_sum > 1 else 0\n",
    "\n",
    "print(predict([0, 0]))  # Output: 0\n",
    "print(predict([0, 1]))  # Output: 0\n",
    "print(predict([1, 0]))  # Output: 0\n",
    "print(predict([1, 1]))  # Output: 1"
   ]
  }
 ],
 "metadata": {
  "kernelspec": {
   "display_name": "Python 3 (ipykernel)",
   "language": "python",
   "name": "python3"
  },
  "language_info": {
   "codemirror_mode": {
    "name": "ipython",
    "version": 3
   },
   "file_extension": ".py",
   "mimetype": "text/x-python",
   "name": "python",
   "nbconvert_exporter": "python",
   "pygments_lexer": "ipython3",
   "version": "3.10.13"
  }
 },
 "nbformat": 4,
 "nbformat_minor": 4
}
